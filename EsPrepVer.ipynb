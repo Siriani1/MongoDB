{
 "cells": [
  {
   "cell_type": "code",
   "execution_count": null,
   "metadata": {},
   "outputs": [],
   "source": [
    "from neo4j import GraphDatabase, basic_auth\n",
    "import pandas as pd\n",
    "\n",
    "\n",
    "driver = GraphDatabase.driver(\n",
    "  \"bolt://18.212.185.199:7687\",\n",
    "  auth=basic_auth(\"neo4j\", \"companies-superintendent-chit\"))\n",
    "\n",
    "def read_cypher(query):\n",
    "      with driver.session(database=\"neo4j\") as session:\n",
    "        results = session.run(query).data()\n",
    "        df = pd.DataFrame(results)\n",
    "        col_names = df.columns.values.tolist()\n",
    "        for c in col_names:\n",
    "          if type(df[c].iloc[0]) is dict:\n",
    "            df = pd.concat([df, df[c].apply(pd.Series)], axis=1)\n",
    "            df.drop(columns=c, inplace=True)\n",
    "          else:\n",
    "            df1 = df.pop(c)\n",
    "            df[c] = df1\n",
    "          return df"
   ]
  },
  {
   "cell_type": "markdown",
   "metadata": {},
   "source": [
    "1. i nomi delle squadre che hanno partecipano al torneo nel 2015"
   ]
  },
  {
   "cell_type": "code",
   "execution_count": null,
   "metadata": {},
   "outputs": [],
   "source": [
    "query = '''\n",
    "MATCH (a:Team)-[p:PARTICIPATED_IN]-(t:Tournament) where t.year = 2015 RETURN a\n",
    "'''\n",
    "\n",
    "read_cypher(query)"
   ]
  },
  {
   "cell_type": "markdown",
   "metadata": {},
   "source": [
    "2. i nomi delle squadre che hanno partecipato al torneo nel 2015 (farlo in un altro modo)"
   ]
  },
  {
   "cell_type": "code",
   "execution_count": null,
   "metadata": {},
   "outputs": [],
   "source": [
    "query = ''' \n",
    "\n",
    "MATCH (a:Team)-[p:PARTICIPATED_IN]-(t:Tournament {year: 2015}) RETURN a\n",
    "'''\n",
    "read_cypher(query)"
   ]
  },
  {
   "cell_type": "markdown",
   "metadata": {},
   "source": [
    "3. il numero di partecipazioni di ogni nazione"
   ]
  },
  {
   "cell_type": "code",
   "execution_count": null,
   "metadata": {},
   "outputs": [],
   "source": [
    "query = ''' \n",
    "\n",
    "MATCH (a:Team)-[p:PARTICIPATED_IN]-(t:Tournament)\n",
    "RETURN a as Nazione, count(p) as totale\n",
    "'''\n",
    "read_cypher(query)"
   ]
  },
  {
   "cell_type": "markdown",
   "metadata": {},
   "source": [
    "4. gli allenatori dell'Italia"
   ]
  },
  {
   "cell_type": "code",
   "execution_count": null,
   "metadata": {},
   "outputs": [],
   "source": [
    "query = ''' \n",
    "\n",
    "MATCH (p:Person)-[:COACH_FOR]-(s:Squad)\n",
    "WHERE s.id STARTS WITH 'Italy'\n",
    "RETURN p, s.id\n",
    "'''\n",
    "read_cypher(query)"
   ]
  },
  {
   "cell_type": "markdown",
   "metadata": {},
   "source": [
    "5. le giocatrici dell'Italia che hanno segnato e in quale partita hanno segnato (data)"
   ]
  },
  {
   "cell_type": "code",
   "execution_count": null,
   "metadata": {},
   "outputs": [],
   "source": [
    "query = ''' \n",
    "\n",
    "MATCH (m:Match)-[:SCORED_GOAL]-(p:Person)-[:REPRESENTS]-(t:Team{name:'Italy'})\n",
    "RETURN p.name, m.date\n",
    "'''\n",
    "read_cypher(query)"
   ]
  },
  {
   "cell_type": "markdown",
   "metadata": {},
   "source": [
    "6. il numero di gol segnato dalle giocatrici italiane in totale"
   ]
  },
  {
   "cell_type": "code",
   "execution_count": null,
   "metadata": {},
   "outputs": [],
   "source": [
    "query = ''' \n",
    "\n",
    "MATCH (m:Match)-[g:SCORED_GOAL]-(p:Person)-[:REPRESENTS]-(t:Team{name:'Italy'})\n",
    "RETURN count(g)\n",
    "\n",
    "'''\n",
    "read_cypher(query)"
   ]
  },
  {
   "cell_type": "markdown",
   "metadata": {},
   "source": [
    "7. le giocatrici che hanno partecipato alla partita del 9 giugno 2019"
   ]
  },
  {
   "cell_type": "code",
   "execution_count": null,
   "metadata": {},
   "outputs": [],
   "source": [
    "query = ''' \n",
    "\n",
    "MATCH (p:Person)-[:PLAYED_IN]-(m:Match)\n",
    "WHERE m.date = date('2019-06-09')\n",
    "RETURN p.name, m.date ORDER BY p.name\n",
    "\n",
    "'''\n",
    "read_cypher(query)"
   ]
  },
  {
   "cell_type": "markdown",
   "metadata": {},
   "source": [
    "8. le giocatrici che hanno segnato nella partita del 9 giugno 2019"
   ]
  },
  {
   "cell_type": "code",
   "execution_count": null,
   "metadata": {},
   "outputs": [],
   "source": [
    "query = ''' \n",
    "\n",
    "MATCH (p:Person)-[:SCORED_GOAL]-(m:Match)\n",
    "WHERE m.date = date('2019-06-09')\n",
    "RETURN p.name, m.date ORDER BY p.name\n",
    "\n",
    "'''\n",
    "read_cypher(query)"
   ]
  },
  {
   "cell_type": "markdown",
   "metadata": {},
   "source": [
    "9. le giocatrici che non hanno segnato nelal partita del 9 giugno 2019"
   ]
  },
  {
   "cell_type": "code",
   "execution_count": null,
   "metadata": {},
   "outputs": [],
   "source": [
    "query = ''' \n",
    "\n",
    "MATCH (p:Person)-[:PLAYED_IN]-(m:Match)\n",
    "WHERE m.date = date('2019-06-09') \n",
    "AND NOT exists ((p)-[:SCORED_GOAL]-(m))\n",
    "RETURN p.name\n",
    "\n",
    "'''\n",
    "read_cypher(query)"
   ]
  }
 ],
 "metadata": {
  "interpreter": {
   "hash": "2ebaf274a634552d8a15b3042380070ec906b308909811da9bf21590d88427a0"
  },
  "kernelspec": {
   "display_name": "Python 3.9.2 64-bit ('geo_env': conda)",
   "language": "python",
   "name": "python3"
  },
  "language_info": {
   "codemirror_mode": {
    "name": "ipython",
    "version": 3
   },
   "file_extension": ".py",
   "mimetype": "text/x-python",
   "name": "python",
   "nbconvert_exporter": "python",
   "pygments_lexer": "ipython3",
   "version": "3.9.2"
  },
  "orig_nbformat": 4
 },
 "nbformat": 4,
 "nbformat_minor": 2
}
