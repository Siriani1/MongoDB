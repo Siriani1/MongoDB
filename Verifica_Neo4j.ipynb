{
  "nbformat": 4,
  "nbformat_minor": 0,
  "metadata": {
    "colab": {
      "name": "Verifica Neo4j.ipynb",
      "provenance": [],
      "collapsed_sections": []
    },
    "kernelspec": {
      "name": "python3",
      "display_name": "Python 3"
    },
    "language_info": {
      "name": "python"
    }
  },
  "cells": [
    {
      "cell_type": "code",
      "metadata": {
        "colab": {
          "base_uri": "https://localhost:8080/"
        },
        "id": "u19cHJzBBa5x",
        "outputId": "04f588f0-4bf6-4b60-8647-36d4b82c09c9"
      },
      "source": [
        "!pip install neo4j-driver"
      ],
      "execution_count": null,
      "outputs": [
        {
          "output_type": "stream",
          "name": "stdout",
          "text": [
            "Requirement already satisfied: neo4j-driver in /usr/local/lib/python3.7/dist-packages (4.4.0)\n",
            "Requirement already satisfied: pytz in /usr/local/lib/python3.7/dist-packages (from neo4j-driver) (2018.9)\n"
          ]
        }
      ]
    },
    {
      "cell_type": "code",
      "metadata": {
        "id": "8SuL8ChUBovO"
      },
      "source": [
        "from neo4j import GraphDatabase, basic_auth\n",
        "import pandas as pd"
      ],
      "execution_count": null,
      "outputs": []
    },
    {
      "cell_type": "code",
      "metadata": {
        "id": "neT1sLypBtTa"
      },
      "source": [
        "driver = GraphDatabase.driver( \"bolt://34.232.210.219:7687\", auth=basic_auth(\"neo4j\", \"helicopters-probes-boost\"))\n",
        "def read_cypher(query):\n",
        "  with driver.session(database=\"neo4j\") as session:\n",
        "    results = session.run(query).data()\n",
        "    df = pd.DataFrame(results)\n",
        "    col_names = df.columns.values.tolist()\n",
        "    for c in col_names:\n",
        "        if type(df[c].iloc[0]) is dict:\n",
        "          df = pd.concat([df, df[c].apply(pd.Series)], axis=1)\n",
        "          df.drop(columns=c, inplace=True)\n",
        "        else:\n",
        "          df1 = df.pop(c)\n",
        "          df[c] = df1\n",
        "    return df"
      ],
      "execution_count": null,
      "outputs": []
    },
    {
      "cell_type": "code",
      "metadata": {
        "colab": {
          "base_uri": "https://localhost:8080/",
          "height": 423
        },
        "id": "PX51AO3jBtvQ",
        "outputId": "9c3491f8-57dd-47e5-ca51-ff2c8907235b"
      },
      "source": [
        "#1. Il cognome e il nome dei poliziotti presenti nel database. Ordinare in ordine alfabetico.\n",
        "cypher_query = '''\n",
        "MATCH (o:Officer)\n",
        "RETURN o.rank,o.surname, o.name ORDER BY(o.surname)\n",
        "'''\n",
        "\n",
        "read_cypher(cypher_query)"
      ],
      "execution_count": null,
      "outputs": [
        {
          "output_type": "execute_result",
          "data": {
            "text/html": [
              "<div>\n",
              "<style scoped>\n",
              "    .dataframe tbody tr th:only-of-type {\n",
              "        vertical-align: middle;\n",
              "    }\n",
              "\n",
              "    .dataframe tbody tr th {\n",
              "        vertical-align: top;\n",
              "    }\n",
              "\n",
              "    .dataframe thead th {\n",
              "        text-align: right;\n",
              "    }\n",
              "</style>\n",
              "<table border=\"1\" class=\"dataframe\">\n",
              "  <thead>\n",
              "    <tr style=\"text-align: right;\">\n",
              "      <th></th>\n",
              "      <th>o.rank</th>\n",
              "      <th>o.surname</th>\n",
              "      <th>o.name</th>\n",
              "    </tr>\n",
              "  </thead>\n",
              "  <tbody>\n",
              "    <tr>\n",
              "      <th>0</th>\n",
              "      <td>Police Constable</td>\n",
              "      <td>Aberdeen</td>\n",
              "      <td>Tab</td>\n",
              "    </tr>\n",
              "    <tr>\n",
              "      <th>1</th>\n",
              "      <td>Inspector</td>\n",
              "      <td>Abramchik</td>\n",
              "      <td>Nomi</td>\n",
              "    </tr>\n",
              "    <tr>\n",
              "      <th>2</th>\n",
              "      <td>Police Constable</td>\n",
              "      <td>Ace</td>\n",
              "      <td>Carlota</td>\n",
              "    </tr>\n",
              "    <tr>\n",
              "      <th>3</th>\n",
              "      <td>Sergeant</td>\n",
              "      <td>Adin</td>\n",
              "      <td>Dani</td>\n",
              "    </tr>\n",
              "    <tr>\n",
              "      <th>4</th>\n",
              "      <td>Police Constable</td>\n",
              "      <td>Adney</td>\n",
              "      <td>Aldric</td>\n",
              "    </tr>\n",
              "    <tr>\n",
              "      <th>...</th>\n",
              "      <td>...</td>\n",
              "      <td>...</td>\n",
              "      <td>...</td>\n",
              "    </tr>\n",
              "    <tr>\n",
              "      <th>995</th>\n",
              "      <td>Police Constable</td>\n",
              "      <td>Yukhnevich</td>\n",
              "      <td>Alli</td>\n",
              "    </tr>\n",
              "    <tr>\n",
              "      <th>996</th>\n",
              "      <td>Police Constable</td>\n",
              "      <td>Yurivtsev</td>\n",
              "      <td>Harold</td>\n",
              "    </tr>\n",
              "    <tr>\n",
              "      <th>997</th>\n",
              "      <td>Police Constable</td>\n",
              "      <td>Zamorrano</td>\n",
              "      <td>Viv</td>\n",
              "    </tr>\n",
              "    <tr>\n",
              "      <th>998</th>\n",
              "      <td>Sergeant</td>\n",
              "      <td>de Verson</td>\n",
              "      <td>Marylou</td>\n",
              "    </tr>\n",
              "    <tr>\n",
              "      <th>999</th>\n",
              "      <td>Inspector</td>\n",
              "      <td>de Zamora</td>\n",
              "      <td>Emyle</td>\n",
              "    </tr>\n",
              "  </tbody>\n",
              "</table>\n",
              "<p>1000 rows × 3 columns</p>\n",
              "</div>"
            ],
            "text/plain": [
              "               o.rank   o.surname   o.name\n",
              "0    Police Constable    Aberdeen      Tab\n",
              "1           Inspector   Abramchik     Nomi\n",
              "2    Police Constable         Ace  Carlota\n",
              "3            Sergeant        Adin     Dani\n",
              "4    Police Constable       Adney   Aldric\n",
              "..                ...         ...      ...\n",
              "995  Police Constable  Yukhnevich     Alli\n",
              "996  Police Constable   Yurivtsev   Harold\n",
              "997  Police Constable   Zamorrano      Viv\n",
              "998          Sergeant   de Verson  Marylou\n",
              "999         Inspector   de Zamora    Emyle\n",
              "\n",
              "[1000 rows x 3 columns]"
            ]
          },
          "metadata": {},
          "execution_count": 20
        }
      ]
    },
    {
      "cell_type": "code",
      "metadata": {
        "colab": {
          "base_uri": "https://localhost:8080/",
          "height": 423
        },
        "id": "ksSXA97SBt1B",
        "outputId": "23c52c70-04d5-41a6-d694-3a7f5b470510"
      },
      "source": [
        "#2. Il cognome e il nome dei poliziotti che hanno il grado (rank) di \"Police Constable\";\n",
        "cypher_query = '''\n",
        "MATCH (o:Officer {rank :'Police Constable'})\n",
        "RETURN o.surname, o.name \n",
        "'''\n",
        "\n",
        "read_cypher(cypher_query)"
      ],
      "execution_count": null,
      "outputs": [
        {
          "output_type": "execute_result",
          "data": {
            "text/html": [
              "<div>\n",
              "<style scoped>\n",
              "    .dataframe tbody tr th:only-of-type {\n",
              "        vertical-align: middle;\n",
              "    }\n",
              "\n",
              "    .dataframe tbody tr th {\n",
              "        vertical-align: top;\n",
              "    }\n",
              "\n",
              "    .dataframe thead th {\n",
              "        text-align: right;\n",
              "    }\n",
              "</style>\n",
              "<table border=\"1\" class=\"dataframe\">\n",
              "  <thead>\n",
              "    <tr style=\"text-align: right;\">\n",
              "      <th></th>\n",
              "      <th>o.surname</th>\n",
              "      <th>o.name</th>\n",
              "    </tr>\n",
              "  </thead>\n",
              "  <tbody>\n",
              "    <tr>\n",
              "      <th>0</th>\n",
              "      <td>Hannam</td>\n",
              "      <td>Christian</td>\n",
              "    </tr>\n",
              "    <tr>\n",
              "      <th>1</th>\n",
              "      <td>Clampett</td>\n",
              "      <td>Aguie</td>\n",
              "    </tr>\n",
              "    <tr>\n",
              "      <th>2</th>\n",
              "      <td>Death</td>\n",
              "      <td>Von</td>\n",
              "    </tr>\n",
              "    <tr>\n",
              "      <th>3</th>\n",
              "      <td>Basley</td>\n",
              "      <td>Isak</td>\n",
              "    </tr>\n",
              "    <tr>\n",
              "      <th>4</th>\n",
              "      <td>Aykroyd</td>\n",
              "      <td>Marketa</td>\n",
              "    </tr>\n",
              "    <tr>\n",
              "      <th>...</th>\n",
              "      <td>...</td>\n",
              "      <td>...</td>\n",
              "    </tr>\n",
              "    <tr>\n",
              "      <th>370</th>\n",
              "      <td>Mayoh</td>\n",
              "      <td>Eloisa</td>\n",
              "    </tr>\n",
              "    <tr>\n",
              "      <th>371</th>\n",
              "      <td>Shearme</td>\n",
              "      <td>Hortense</td>\n",
              "    </tr>\n",
              "    <tr>\n",
              "      <th>372</th>\n",
              "      <td>Nias</td>\n",
              "      <td>Kassey</td>\n",
              "    </tr>\n",
              "    <tr>\n",
              "      <th>373</th>\n",
              "      <td>Emerine</td>\n",
              "      <td>Hertha</td>\n",
              "    </tr>\n",
              "    <tr>\n",
              "      <th>374</th>\n",
              "      <td>Livings</td>\n",
              "      <td>Stanislaw</td>\n",
              "    </tr>\n",
              "  </tbody>\n",
              "</table>\n",
              "<p>375 rows × 2 columns</p>\n",
              "</div>"
            ],
            "text/plain": [
              "    o.surname     o.name\n",
              "0      Hannam  Christian\n",
              "1    Clampett      Aguie\n",
              "2       Death        Von\n",
              "3      Basley       Isak\n",
              "4     Aykroyd    Marketa\n",
              "..        ...        ...\n",
              "370     Mayoh     Eloisa\n",
              "371   Shearme   Hortense\n",
              "372      Nias     Kassey\n",
              "373   Emerine     Hertha\n",
              "374   Livings  Stanislaw\n",
              "\n",
              "[375 rows x 2 columns]"
            ]
          },
          "metadata": {},
          "execution_count": 21
        }
      ]
    },
    {
      "cell_type": "code",
      "metadata": {
        "colab": {
          "base_uri": "https://localhost:8080/",
          "height": 175
        },
        "id": "-87kx4WpLEdt",
        "outputId": "380d5a1e-0b93-4341-c61a-4bd5928b1693"
      },
      "source": [
        "#3. I crimini in cui sono coinvolte BMW modello M o Mercedes-Benz modello M-Class (model)\n",
        "cypher_query = '''\n",
        "MATCH (v:Vehicle)-[:INVOLVED_IN]-(c:Crime)\n",
        "WHERE (v.make = \"BMW\" AND v.model = \"M\") OR (v.make = \"Mercedes-Benz\" AND v.model = \"M-Class\")\n",
        "RETURN c\n",
        "'''\n",
        "\n",
        "read_cypher(cypher_query)"
      ],
      "execution_count": null,
      "outputs": [
        {
          "output_type": "execute_result",
          "data": {
            "text/html": [
              "<div>\n",
              "<style scoped>\n",
              "    .dataframe tbody tr th:only-of-type {\n",
              "        vertical-align: middle;\n",
              "    }\n",
              "\n",
              "    .dataframe tbody tr th {\n",
              "        vertical-align: top;\n",
              "    }\n",
              "\n",
              "    .dataframe thead th {\n",
              "        text-align: right;\n",
              "    }\n",
              "</style>\n",
              "<table border=\"1\" class=\"dataframe\">\n",
              "  <thead>\n",
              "    <tr style=\"text-align: right;\">\n",
              "      <th></th>\n",
              "      <th>date</th>\n",
              "      <th>id</th>\n",
              "      <th>type</th>\n",
              "      <th>last_outcome</th>\n",
              "    </tr>\n",
              "  </thead>\n",
              "  <tbody>\n",
              "    <tr>\n",
              "      <th>0</th>\n",
              "      <td>4/08/2017</td>\n",
              "      <td>a42699bed37958abb8c9096df66a3d533b17540b632141...</td>\n",
              "      <td>Vehicle crime</td>\n",
              "      <td>Investigation complete; no suspect identified</td>\n",
              "    </tr>\n",
              "    <tr>\n",
              "      <th>1</th>\n",
              "      <td>28/08/2017</td>\n",
              "      <td>da187294ebd822e6651308e4a2987bbf56e0ab2c9d22d9...</td>\n",
              "      <td>Vehicle crime</td>\n",
              "      <td>Investigation complete; no suspect identified</td>\n",
              "    </tr>\n",
              "    <tr>\n",
              "      <th>2</th>\n",
              "      <td>4/08/2017</td>\n",
              "      <td>547b8f2b12aea51b8f0eb229aaa4ec0370f4e67c7d3e1d...</td>\n",
              "      <td>Vehicle crime</td>\n",
              "      <td>Investigation complete; no suspect identified</td>\n",
              "    </tr>\n",
              "    <tr>\n",
              "      <th>3</th>\n",
              "      <td>29/08/2017</td>\n",
              "      <td>74dfbc7365739859002b3f3f8e932975e3c64350a564c3...</td>\n",
              "      <td>Vehicle crime</td>\n",
              "      <td>Investigation complete; no suspect identified</td>\n",
              "    </tr>\n",
              "  </tbody>\n",
              "</table>\n",
              "</div>"
            ],
            "text/plain": [
              "         date  ...                                   last_outcome\n",
              "0   4/08/2017  ...  Investigation complete; no suspect identified\n",
              "1  28/08/2017  ...  Investigation complete; no suspect identified\n",
              "2   4/08/2017  ...  Investigation complete; no suspect identified\n",
              "3  29/08/2017  ...  Investigation complete; no suspect identified\n",
              "\n",
              "[4 rows x 4 columns]"
            ]
          },
          "metadata": {},
          "execution_count": 23
        }
      ]
    },
    {
      "cell_type": "code",
      "metadata": {
        "colab": {
          "base_uri": "https://localhost:8080/",
          "height": 707
        },
        "id": "8AJ5ObYNLtDr",
        "outputId": "ea4244ca-0e11-4685-8c79-041c227282ca"
      },
      "source": [
        "#4. I crimini seguiti dal poliziotto che si chiama Christian Hannam\n",
        "cypher_query = '''\n",
        "MATCH (c:Crime) - [inv:INVESTIGATED_BY] - (o:Officer {name: 'Christian' , surname: 'Hannam'})\n",
        "RETURN c.type\n",
        "'''\n",
        "\n",
        "read_cypher(cypher_query)"
      ],
      "execution_count": null,
      "outputs": [
        {
          "output_type": "execute_result",
          "data": {
            "text/html": [
              "<div>\n",
              "<style scoped>\n",
              "    .dataframe tbody tr th:only-of-type {\n",
              "        vertical-align: middle;\n",
              "    }\n",
              "\n",
              "    .dataframe tbody tr th {\n",
              "        vertical-align: top;\n",
              "    }\n",
              "\n",
              "    .dataframe thead th {\n",
              "        text-align: right;\n",
              "    }\n",
              "</style>\n",
              "<table border=\"1\" class=\"dataframe\">\n",
              "  <thead>\n",
              "    <tr style=\"text-align: right;\">\n",
              "      <th></th>\n",
              "      <th>c.type</th>\n",
              "    </tr>\n",
              "  </thead>\n",
              "  <tbody>\n",
              "    <tr>\n",
              "      <th>0</th>\n",
              "      <td>Violence and sexual offences</td>\n",
              "    </tr>\n",
              "    <tr>\n",
              "      <th>1</th>\n",
              "      <td>Criminal damage and arson</td>\n",
              "    </tr>\n",
              "    <tr>\n",
              "      <th>2</th>\n",
              "      <td>Vehicle crime</td>\n",
              "    </tr>\n",
              "    <tr>\n",
              "      <th>3</th>\n",
              "      <td>Drugs</td>\n",
              "    </tr>\n",
              "    <tr>\n",
              "      <th>4</th>\n",
              "      <td>Criminal damage and arson</td>\n",
              "    </tr>\n",
              "    <tr>\n",
              "      <th>5</th>\n",
              "      <td>Vehicle crime</td>\n",
              "    </tr>\n",
              "    <tr>\n",
              "      <th>6</th>\n",
              "      <td>Bicycle theft</td>\n",
              "    </tr>\n",
              "    <tr>\n",
              "      <th>7</th>\n",
              "      <td>Violence and sexual offences</td>\n",
              "    </tr>\n",
              "    <tr>\n",
              "      <th>8</th>\n",
              "      <td>Theft from the person</td>\n",
              "    </tr>\n",
              "    <tr>\n",
              "      <th>9</th>\n",
              "      <td>Other theft</td>\n",
              "    </tr>\n",
              "    <tr>\n",
              "      <th>10</th>\n",
              "      <td>Vehicle crime</td>\n",
              "    </tr>\n",
              "    <tr>\n",
              "      <th>11</th>\n",
              "      <td>Violence and sexual offences</td>\n",
              "    </tr>\n",
              "    <tr>\n",
              "      <th>12</th>\n",
              "      <td>Theft from the person</td>\n",
              "    </tr>\n",
              "    <tr>\n",
              "      <th>13</th>\n",
              "      <td>Other theft</td>\n",
              "    </tr>\n",
              "    <tr>\n",
              "      <th>14</th>\n",
              "      <td>Shoplifting</td>\n",
              "    </tr>\n",
              "    <tr>\n",
              "      <th>15</th>\n",
              "      <td>Criminal damage and arson</td>\n",
              "    </tr>\n",
              "    <tr>\n",
              "      <th>16</th>\n",
              "      <td>Violence and sexual offences</td>\n",
              "    </tr>\n",
              "    <tr>\n",
              "      <th>17</th>\n",
              "      <td>Public order</td>\n",
              "    </tr>\n",
              "    <tr>\n",
              "      <th>18</th>\n",
              "      <td>Violence and sexual offences</td>\n",
              "    </tr>\n",
              "    <tr>\n",
              "      <th>19</th>\n",
              "      <td>Other theft</td>\n",
              "    </tr>\n",
              "    <tr>\n",
              "      <th>20</th>\n",
              "      <td>Robbery</td>\n",
              "    </tr>\n",
              "  </tbody>\n",
              "</table>\n",
              "</div>"
            ],
            "text/plain": [
              "                          c.type\n",
              "0   Violence and sexual offences\n",
              "1      Criminal damage and arson\n",
              "2                  Vehicle crime\n",
              "3                          Drugs\n",
              "4      Criminal damage and arson\n",
              "5                  Vehicle crime\n",
              "6                  Bicycle theft\n",
              "7   Violence and sexual offences\n",
              "8          Theft from the person\n",
              "9                    Other theft\n",
              "10                 Vehicle crime\n",
              "11  Violence and sexual offences\n",
              "12         Theft from the person\n",
              "13                   Other theft\n",
              "14                   Shoplifting\n",
              "15     Criminal damage and arson\n",
              "16  Violence and sexual offences\n",
              "17                  Public order\n",
              "18  Violence and sexual offences\n",
              "19                   Other theft\n",
              "20                       Robbery"
            ]
          },
          "metadata": {},
          "execution_count": 61
        }
      ]
    },
    {
      "cell_type": "code",
      "metadata": {
        "colab": {
          "base_uri": "https://localhost:8080/",
          "height": 112
        },
        "id": "H7UQCEhPSsZn",
        "outputId": "f4f17a99-6200-486c-e2eb-a86a50dba0b6"
      },
      "source": [
        "#5. Il tipo dei crimini seguiti da Christian Hannam che sono ancora \"under investigation\";\n",
        "cypher_query = '''\n",
        "MATCH (c:Crime {last_outcome: \"Under investigation\"}) - [inv:INVESTIGATED_BY] - (o:Officer {name: 'Christian', surname: 'Hannam'})\n",
        "RETURN c.type\n",
        "'''\n",
        "\n",
        "read_cypher(cypher_query)"
      ],
      "execution_count": null,
      "outputs": [
        {
          "output_type": "execute_result",
          "data": {
            "text/html": [
              "<div>\n",
              "<style scoped>\n",
              "    .dataframe tbody tr th:only-of-type {\n",
              "        vertical-align: middle;\n",
              "    }\n",
              "\n",
              "    .dataframe tbody tr th {\n",
              "        vertical-align: top;\n",
              "    }\n",
              "\n",
              "    .dataframe thead th {\n",
              "        text-align: right;\n",
              "    }\n",
              "</style>\n",
              "<table border=\"1\" class=\"dataframe\">\n",
              "  <thead>\n",
              "    <tr style=\"text-align: right;\">\n",
              "      <th></th>\n",
              "      <th>date</th>\n",
              "      <th>id</th>\n",
              "      <th>last_outcome</th>\n",
              "      <th>type</th>\n",
              "    </tr>\n",
              "  </thead>\n",
              "  <tbody>\n",
              "    <tr>\n",
              "      <th>0</th>\n",
              "      <td>10/08/2017</td>\n",
              "      <td>e6537cce7e5e701176646e29d4044253189c4cfb51d5ca...</td>\n",
              "      <td>Under investigation</td>\n",
              "      <td>Criminal damage and arson</td>\n",
              "    </tr>\n",
              "    <tr>\n",
              "      <th>1</th>\n",
              "      <td>18/08/2017</td>\n",
              "      <td>3ff357e11bda6193e32714678b32cb0fc79df88d493c7e...</td>\n",
              "      <td>Under investigation</td>\n",
              "      <td>Robbery</td>\n",
              "    </tr>\n",
              "  </tbody>\n",
              "</table>\n",
              "</div>"
            ],
            "text/plain": [
              "         date  ...                       type\n",
              "0  10/08/2017  ...  Criminal damage and arson\n",
              "1  18/08/2017  ...                    Robbery\n",
              "\n",
              "[2 rows x 4 columns]"
            ]
          },
          "metadata": {},
          "execution_count": 33
        }
      ]
    },
    {
      "cell_type": "code",
      "metadata": {
        "colab": {
          "base_uri": "https://localhost:8080/",
          "height": 112
        },
        "id": "XXXCYNslTiFM",
        "outputId": "b747041b-54c7-4e52-8431-62f1db5791bd"
      },
      "source": [
        "#6. Gli indirizzi dei crimini su cui Christian Hannam sta ancora investigando\n",
        "cypher_query = '''\n",
        "MATCH (l:Location) - [oc:OCCURRED_AT] - (c:Crime {last_outcome: \"Under investigation\"}) - [inv:INVESTIGATED_BY] - (o:Officer {name: 'Christian', surname: 'Hannam'})\n",
        "RETURN l.address\n",
        "'''\n",
        "\n",
        "read_cypher(cypher_query)"
      ],
      "execution_count": null,
      "outputs": [
        {
          "output_type": "execute_result",
          "data": {
            "text/html": [
              "<div>\n",
              "<style scoped>\n",
              "    .dataframe tbody tr th:only-of-type {\n",
              "        vertical-align: middle;\n",
              "    }\n",
              "\n",
              "    .dataframe tbody tr th {\n",
              "        vertical-align: top;\n",
              "    }\n",
              "\n",
              "    .dataframe thead th {\n",
              "        text-align: right;\n",
              "    }\n",
              "</style>\n",
              "<table border=\"1\" class=\"dataframe\">\n",
              "  <thead>\n",
              "    <tr style=\"text-align: right;\">\n",
              "      <th></th>\n",
              "      <th>l.address</th>\n",
              "    </tr>\n",
              "  </thead>\n",
              "  <tbody>\n",
              "    <tr>\n",
              "      <th>0</th>\n",
              "      <td>13 Stovell Road</td>\n",
              "    </tr>\n",
              "    <tr>\n",
              "      <th>1</th>\n",
              "      <td>114 Wigan Road</td>\n",
              "    </tr>\n",
              "  </tbody>\n",
              "</table>\n",
              "</div>"
            ],
            "text/plain": [
              "         l.address\n",
              "0  13 Stovell Road\n",
              "1   114 Wigan Road"
            ]
          },
          "metadata": {},
          "execution_count": 34
        }
      ]
    },
    {
      "cell_type": "code",
      "metadata": {
        "colab": {
          "base_uri": "https://localhost:8080/",
          "height": 112
        },
        "id": "mgNSt5qZT0eC",
        "outputId": "79cbcc8a-b3eb-4735-b852-cfca541f0921"
      },
      "source": [
        "#7. L’area dei crimini su cui Christian Hannam sta ancora investigando\n",
        "cypher_query = '''\n",
        "MATCH (a:Area) - [loc:LOCATION_IN_AREA] - (l:Location) - [oc:OCCURRED_AT] - (c:Crime {last_outcome: \"Under investigation\"}) - [inv:INVESTIGATED_BY] - (o:Officer {name: 'Christian', surname: 'Hannam'})\n",
        "RETURN a.areaCode\n",
        "'''\n",
        "\n",
        "read_cypher(cypher_query)"
      ],
      "execution_count": null,
      "outputs": [
        {
          "output_type": "execute_result",
          "data": {
            "text/html": [
              "<div>\n",
              "<style scoped>\n",
              "    .dataframe tbody tr th:only-of-type {\n",
              "        vertical-align: middle;\n",
              "    }\n",
              "\n",
              "    .dataframe tbody tr th {\n",
              "        vertical-align: top;\n",
              "    }\n",
              "\n",
              "    .dataframe thead th {\n",
              "        text-align: right;\n",
              "    }\n",
              "</style>\n",
              "<table border=\"1\" class=\"dataframe\">\n",
              "  <thead>\n",
              "    <tr style=\"text-align: right;\">\n",
              "      <th></th>\n",
              "      <th>a.areaCode</th>\n",
              "    </tr>\n",
              "  </thead>\n",
              "  <tbody>\n",
              "    <tr>\n",
              "      <th>0</th>\n",
              "      <td>M40</td>\n",
              "    </tr>\n",
              "    <tr>\n",
              "      <th>1</th>\n",
              "      <td>BL3</td>\n",
              "    </tr>\n",
              "  </tbody>\n",
              "</table>\n",
              "</div>"
            ],
            "text/plain": [
              "  a.areaCode\n",
              "0        M40\n",
              "1        BL3"
            ]
          },
          "metadata": {},
          "execution_count": 36
        }
      ]
    },
    {
      "cell_type": "code",
      "metadata": {
        "colab": {
          "base_uri": "https://localhost:8080/",
          "height": 174
        },
        "id": "Z4_b9GTPUIIC",
        "outputId": "98f613a3-2316-4d64-dc26-0849eff63050"
      },
      "source": [
        "#8. Il numero di poliziotti per ogni grado. Ordinare dal grado che ha più poliziotti a scendere.\n",
        "cypher_query = '''\n",
        "MATCH (o:Officer)\n",
        "RETURN o.rank, COUNT(o.rank) as totale ORDER BY(totale) DESC\n",
        "'''\n",
        "\n",
        "read_cypher(cypher_query)"
      ],
      "execution_count": null,
      "outputs": [
        {
          "output_type": "execute_result",
          "data": {
            "text/html": [
              "<div>\n",
              "<style scoped>\n",
              "    .dataframe tbody tr th:only-of-type {\n",
              "        vertical-align: middle;\n",
              "    }\n",
              "\n",
              "    .dataframe tbody tr th {\n",
              "        vertical-align: top;\n",
              "    }\n",
              "\n",
              "    .dataframe thead th {\n",
              "        text-align: right;\n",
              "    }\n",
              "</style>\n",
              "<table border=\"1\" class=\"dataframe\">\n",
              "  <thead>\n",
              "    <tr style=\"text-align: right;\">\n",
              "      <th></th>\n",
              "      <th>o.rank</th>\n",
              "      <th>totale</th>\n",
              "    </tr>\n",
              "  </thead>\n",
              "  <tbody>\n",
              "    <tr>\n",
              "      <th>0</th>\n",
              "      <td>Police Constable</td>\n",
              "      <td>375</td>\n",
              "    </tr>\n",
              "    <tr>\n",
              "      <th>1</th>\n",
              "      <td>Sergeant</td>\n",
              "      <td>336</td>\n",
              "    </tr>\n",
              "    <tr>\n",
              "      <th>2</th>\n",
              "      <td>Inspector</td>\n",
              "      <td>199</td>\n",
              "    </tr>\n",
              "    <tr>\n",
              "      <th>3</th>\n",
              "      <td>Chief Inspector</td>\n",
              "      <td>90</td>\n",
              "    </tr>\n",
              "  </tbody>\n",
              "</table>\n",
              "</div>"
            ],
            "text/plain": [
              "             o.rank  totale\n",
              "0  Police Constable     375\n",
              "1          Sergeant     336\n",
              "2         Inspector     199\n",
              "3   Chief Inspector      90"
            ]
          },
          "metadata": {},
          "execution_count": 62
        }
      ]
    },
    {
      "cell_type": "code",
      "metadata": {
        "colab": {
          "base_uri": "https://localhost:8080/",
          "height": 112
        },
        "id": "qxcW3PepVbMw",
        "outputId": "babc0267-8e57-45a1-e3d9-24e297543f07"
      },
      "source": [
        "#9. Il grado che ha meno di 200 poliziotti\n",
        "cypher_query = '''\n",
        "MATCH (o:Officer)\n",
        "WITH o.rank as r, COUNT(o.rank) as c \n",
        "WHERE c < 200\n",
        "RETURN r, c\n",
        "'''\n",
        "# with equivale all'having in sql\n",
        "read_cypher(cypher_query)"
      ],
      "execution_count": null,
      "outputs": [
        {
          "output_type": "execute_result",
          "data": {
            "text/html": [
              "<div>\n",
              "<style scoped>\n",
              "    .dataframe tbody tr th:only-of-type {\n",
              "        vertical-align: middle;\n",
              "    }\n",
              "\n",
              "    .dataframe tbody tr th {\n",
              "        vertical-align: top;\n",
              "    }\n",
              "\n",
              "    .dataframe thead th {\n",
              "        text-align: right;\n",
              "    }\n",
              "</style>\n",
              "<table border=\"1\" class=\"dataframe\">\n",
              "  <thead>\n",
              "    <tr style=\"text-align: right;\">\n",
              "      <th></th>\n",
              "      <th>r</th>\n",
              "      <th>c</th>\n",
              "    </tr>\n",
              "  </thead>\n",
              "  <tbody>\n",
              "    <tr>\n",
              "      <th>0</th>\n",
              "      <td>Inspector</td>\n",
              "      <td>199</td>\n",
              "    </tr>\n",
              "    <tr>\n",
              "      <th>1</th>\n",
              "      <td>Chief Inspector</td>\n",
              "      <td>90</td>\n",
              "    </tr>\n",
              "  </tbody>\n",
              "</table>\n",
              "</div>"
            ],
            "text/plain": [
              "                 r    c\n",
              "0        Inspector  199\n",
              "1  Chief Inspector   90"
            ]
          },
          "metadata": {},
          "execution_count": 66
        }
      ]
    }
  ]
}