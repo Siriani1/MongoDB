{
 "cells": [
  {
   "cell_type": "code",
   "execution_count": 1,
   "metadata": {},
   "outputs": [],
   "source": [
    "from neo4j import GraphDatabase, basic_auth\n",
    "import pandas as pd\n",
    "\n",
    "\n",
    "driver = GraphDatabase.driver(\"bolt://3.231.162.20:7687\",auth=basic_auth(\"neo4j\", \"drills-workbooks-vol.\"))\n"
   ]
  }
 ],
 "metadata": {
  "interpreter": {
   "hash": "2ebaf274a634552d8a15b3042380070ec906b308909811da9bf21590d88427a0"
  },
  "kernelspec": {
   "display_name": "Python 3.9.2 64-bit ('geo_env': conda)",
   "language": "python",
   "name": "python3"
  },
  "language_info": {
   "codemirror_mode": {
    "name": "ipython",
    "version": 3
   },
   "file_extension": ".py",
   "mimetype": "text/x-python",
   "name": "python",
   "nbconvert_exporter": "python",
   "pygments_lexer": "ipython3",
   "version": "3.9.2"
  },
  "orig_nbformat": 4
 },
 "nbformat": 4,
 "nbformat_minor": 2
}
